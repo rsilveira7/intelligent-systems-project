{
 "cells": [
  {
   "cell_type": "markdown",
   "metadata": {},
   "source": [
    "# Bibliotecas"
   ]
  },
  {
   "cell_type": "code",
   "execution_count": null,
   "metadata": {},
   "outputs": [],
   "source": [
    "#Libs ############################################\n",
    "from sklearn.model_selection import train_test_split\n",
    "from sklearn.preprocessing import LabelEncoder\n",
    "from sklearn.feature_extraction.text import TfidfVectorizer\n",
    "from sklearn.linear_model import LogisticRegression\n",
    "from sklearn.multiclass import OneVsRestClassifier\n",
    "from sklearn.metrics import classification_report, accuracy_score\n",
    "from sklearn.pipeline import Pipeline\n",
    "from sklearn.ensemble import RandomForestClassifier\n",
    "import pandas as pd\n",
    "import numpy as np\n",
    "import pickle\n",
    "import nltk\n",
    "import os\n",
    "nltk.download('stopwords')\n",
    "from nltk.corpus import stopwords\n",
    "stop_words = set(stopwords.words('portuguese'))"
   ]
  },
  {
   "cell_type": "markdown",
   "metadata": {},
   "source": [
    "# Data extraction\n",
    "Loads a dataset with product data from a specified path available in the environment variable DATASET_PATH."
   ]
  },
  {
   "cell_type": "code",
   "execution_count": null,
   "metadata": {},
   "outputs": [],
   "source": [
    "try:\n",
    "    DATASET_PATH = os.environ['DATASET_PATH']\n",
    "except:\n",
    "    DATASET_PATH = 'data/sample_products.csv'\n",
    "\n",
    "df_file = pd.read_csv(DATASET_PATH, sep=',')\n",
    "df_file.head(2)"
   ]
  },
  {
   "cell_type": "markdown",
   "metadata": {},
   "source": [
    "# Data formatting\n",
    "Processes the dataset to use it for training and validation."
   ]
  },
  {
   "cell_type": "code",
   "execution_count": null,
   "metadata": {},
   "outputs": [],
   "source": [
    "df_data = df_file.copy()\n",
    "df_data.isnull().sum()"
   ]
  },
  {
   "cell_type": "code",
   "execution_count": null,
   "metadata": {},
   "outputs": [],
   "source": [
    "#Label encoder, using only text columns\n",
    "LE = LabelEncoder()\n",
    "df_data['cod_category'] = LE.fit_transform(df_data['category'])\n",
    "df_data['text_train'] = df_data['query'] +' ' + df_data['title'] + ' ' + df_data['concatenated_tags']\n",
    "df_data.head(2)"
   ]
  },
  {
   "cell_type": "markdown",
   "metadata": {},
   "source": [
    "# Modeling\n",
    "Specifies a model to handle the categorization problem."
   ]
  },
  {
   "cell_type": "code",
   "execution_count": null,
   "metadata": {},
   "outputs": [],
   "source": [
    "train, test = train_test_split(df_data, random_state=42, test_size=0.33, shuffle=True)\n",
    "X_train = train.text_train\n",
    "X_test = test.text_train\n",
    "y_train = train['cod_category']\n",
    "y_test = test['cod_category']\n",
    "print(X_train.shape)\n",
    "print(X_test.shape)"
   ]
  },
  {
   "cell_type": "code",
   "execution_count": null,
   "metadata": {},
   "outputs": [],
   "source": [
    "#Logistic Regression #########\n",
    "LR_Pipe = Pipeline([\n",
    "                ('tfidf', TfidfVectorizer(stop_words=stop_words)),\n",
    "                ('clf', OneVsRestClassifier(LogisticRegression(solver='sag'), n_jobs=1))\n",
    "           ])\n",
    "LR_Pipe.fit(X_train.values.astype('U'), y_train)\n",
    "y_pred = LR_Pipe.predict(X_test.values.astype('U'))\n",
    "\n",
    "print(classification_report(y_test,y_pred))\n",
    "print(accuracy_score(y_test, y_pred))"
   ]
  },
  {
   "cell_type": "code",
   "execution_count": null,
   "metadata": {},
   "outputs": [],
   "source": [
    "#Random Forest ###############\n",
    "RF_Pipe = Pipeline([\n",
    "                ('tfidf', TfidfVectorizer(stop_words=stop_words)),\n",
    "                ('clf', OneVsRestClassifier(RandomForestClassifier(n_estimators=10, random_state=0), n_jobs=1)),\n",
    "           ])\n",
    "RF_Pipe.fit(X_train.values.astype('U'), y_train)\n",
    "y_pred2 = LR_Pipe.predict(X_test.values.astype('U'))\n",
    "\n",
    "print(classification_report(y_test,y_pred2))\n",
    "print(accuracy_score(y_test, y_pred))"
   ]
  },
  {
   "cell_type": "markdown",
   "metadata": {},
   "source": [
    "# Model validation\n",
    "Generates metrics about the model accuracy (precision, recall, F1, etc.) for each category and exports them to a specified path available in the environment variable METRICS_PATH."
   ]
  },
  {
   "cell_type": "code",
   "execution_count": null,
   "metadata": {},
   "outputs": [],
   "source": [
    "try:\n",
    "    METRICS_PATH = os.environ['METRICS_PATH']\n",
    "except:\n",
    "    METRICS_PATH = 'metrics.txt'"
   ]
  },
  {
   "cell_type": "code",
   "execution_count": null,
   "metadata": {},
   "outputs": [],
   "source": [
    "df_categorias = df_data[['cod_category', 'category']].copy()\n",
    "df_categorias = df_categorias.drop_duplicates()\n",
    "categories = df_categorias['category'].tolist()\n",
    "\n",
    "def test_predict(Model, Save, txt):    \n",
    "    metric_file =''\n",
    "    metric_file += '####################################\\n'\n",
    "    metric_file += txt + '\\n'\n",
    "    metric_file += '####################################\\n'\n",
    "        \n",
    "    for cat in categories:    \n",
    "        x_cat_test = test['text_train'][test['category']==cat]\n",
    "        y_cat_test = test['cod_category'][test['category']==cat]\n",
    "        y_pred = Model.predict(x_cat_test)\n",
    "        print('ACC: ',cat, accuracy_score(y_cat_test, y_pred))        \n",
    "        metric_file += 'Category: ' + cat + ' - ACC:' + str(accuracy_score(y_cat_test, y_pred))  + '\\n'\n",
    "        metric_file += str(classification_report(y_cat_test,y_pred)) + '\\n'\n",
    "        print(classification_report(y_cat_test,y_pred))\n",
    "    \n",
    "    if Save == 1:                        \n",
    "        f = open(METRICS_PATH, \"a\")        \n",
    "        f.truncate(0) # need '0' when using r+\n",
    "        f.write(metric_file)\n",
    "        f.close()            "
   ]
  },
  {
   "cell_type": "code",
   "execution_count": null,
   "metadata": {},
   "outputs": [],
   "source": [
    "print('############### Random Forest Metrics for categories #################')\n",
    "test_predict(RF_Pipe, 0, 'Random Forest - Metrics for categories')\n",
    "\n",
    "print('############### Logistic Regression Metrics for categories #################')\n",
    "test_predict(LR_Pipe, 1, 'Logistic Regression - Metrics for categories')"
   ]
  },
  {
   "cell_type": "markdown",
   "metadata": {},
   "source": [
    "# Model exportation\n",
    "Exports a candidate model to a specified path available in the environment variable MODEL_PATH."
   ]
  },
  {
   "cell_type": "code",
   "execution_count": null,
   "metadata": {},
   "outputs": [],
   "source": [
    "#Random forest\n",
    "classifier = RF_Pipe\n",
    "\n",
    "try:\n",
    "    MODEL_PATH = os.environ['MODEL_PATH']\n",
    "except:\n",
    "    MODEL_PATH = 'model.pkl'\n",
    "\n",
    "with open(MODEL_PATH, 'wb') as picklefile:\n",
    "    pickle.dump(classifier,picklefile)"
   ]
  }
 ],
 "metadata": {
  "kernelspec": {
   "display_name": "Python 3",
   "language": "python",
   "name": "python3"
  },
  "language_info": {
   "codemirror_mode": {
    "name": "ipython",
    "version": 3
   },
   "file_extension": ".py",
   "mimetype": "text/x-python",
   "name": "python",
   "nbconvert_exporter": "python",
   "pygments_lexer": "ipython3",
   "version": "3.9.1"
  },
  "varInspector": {
   "cols": {
    "lenName": 16,
    "lenType": 16,
    "lenVar": 40
   },
   "kernels_config": {
    "python": {
     "delete_cmd_postfix": "",
     "delete_cmd_prefix": "del ",
     "library": "var_list.py",
     "varRefreshCmd": "print(var_dic_list())"
    },
    "r": {
     "delete_cmd_postfix": ") ",
     "delete_cmd_prefix": "rm(",
     "library": "var_list.r",
     "varRefreshCmd": "cat(var_dic_list()) "
    }
   },
   "types_to_exclude": [
    "module",
    "function",
    "builtin_function_or_method",
    "instance",
    "_Feature"
   ],
   "window_display": false
  }
 },
 "nbformat": 4,
 "nbformat_minor": 2
}
